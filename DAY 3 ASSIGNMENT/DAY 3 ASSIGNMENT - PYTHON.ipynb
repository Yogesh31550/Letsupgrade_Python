{
 "cells": [
  {
   "cell_type": "markdown",
   "metadata": {},
   "source": [
    "# QUESTION 1"
   ]
  },
  {
   "cell_type": "markdown",
   "metadata": {},
   "source": [
    "1.Question 1 Use IF ELSE and ELIF to write a program in python for your Report Cards."
   ]
  },
  {
   "cell_type": "code",
   "execution_count": 1,
   "metadata": {},
   "outputs": [
    {
     "name": "stdout",
     "output_type": "stream",
     "text": [
      "Enter Student Name:-Yogesh\n",
      "Enter maximum marks:-100\n",
      "Enter English Mark:-75\n",
      "Enter Math Mark:-85\n",
      "Enter Physics Mark:-55\n",
      "Enter Chemistry Mark:-70\n",
      "Enter Biology Mark:-90\n",
      "Yogesh got 75.0 %\n",
      "Yogesh YOU GOT B GRADE\n"
     ]
    }
   ],
   "source": [
    "name=input(\"Enter Student Name:-\")\n",
    "mmarks=int(input(\"Enter maximum marks:-\"))\n",
    "English=float(input(\"Enter English Mark:-\"))\n",
    "Math=float(input(\"Enter Math Mark:-\"))\n",
    "Physics=float(input(\"Enter Physics Mark:-\"))\n",
    "Chemistry=float(input(\"Enter Chemistry Mark:-\"))\n",
    "Biology=float(input(\"Enter Biology Mark:-\"))\n",
    "\n",
    "if English>mmarks or Math>mmarks or Physics>mmarks or Chemistry>mmarks or Biology>mmarks:\n",
    "    print(\"Invalid Marks Inputed\")\n",
    "    print(\"ReEnter Name and marks\")\n",
    "else:\n",
    "    totalmarks=English+Math+Physics+Chemistry+Biology\n",
    "    perc=(totalmarks/(5*mmarks))*100\n",
    "    print(name,\"got\",perc,\"%\")\n",
    "if perc>=90 and perc<=100:\n",
    "    print(name,\"YOU GOT A+ GRADE\")\n",
    "elif perc>=80 and perc<90:\n",
    "    print(name,\"YOU GOT A GRADE\")\n",
    "elif perc>=70 and perc<80:\n",
    "    print(name,\"YOU GOT B GRADE\")\n",
    "elif perc>=50 and perc<60:\n",
    "    print(name,\"YOU GOT C GRADE\")\n",
    "elif perc>=35 and perc<50:\n",
    "    print(name,\"YOU GOT D GRADE\")\n",
    "else:\n",
    "    print(name,\"YOU ARE FAILED\")\n",
    "    "
   ]
  },
  {
   "cell_type": "markdown",
   "metadata": {},
   "source": [
    "# QUESTION 2"
   ]
  },
  {
   "cell_type": "markdown",
   "metadata": {},
   "source": [
    "2.Use For Loop to Print Prime Numbers in between 1 to 1000"
   ]
  },
  {
   "cell_type": "code",
   "execution_count": 2,
   "metadata": {},
   "outputs": [
    {
     "name": "stdout",
     "output_type": "stream",
     "text": [
      " 2   3   5   7   11   13   17   19   23   29   31   37   41   43   47   53   59   61   67   71   73   79   83   89   97  "
     ]
    }
   ],
   "source": [
    "Number = 1\n",
    "while(Number <= 100):\n",
    "    count = 0\n",
    "    i = 2\n",
    "    \n",
    "    while(i <= Number//2):\n",
    "        if(Number % i == 0):\n",
    "            count = count + 1\n",
    "            break\n",
    "        i = i + 1\n",
    "\n",
    "    if (count == 0 and Number != 1):\n",
    "        print(\" %d\" %Number, end = '  ')\n",
    "    Number = Number  + 1"
   ]
  },
  {
   "cell_type": "markdown",
   "metadata": {},
   "source": [
    "# QUESTION 3"
   ]
  },
  {
   "cell_type": "markdown",
   "metadata": {},
   "source": [
    "3.Write a program for printing the tables from 1,10 using Nested For Loop"
   ]
  },
  {
   "cell_type": "code",
   "execution_count": 3,
   "metadata": {},
   "outputs": [
    {
     "name": "stdout",
     "output_type": "stream",
     "text": [
      "\n",
      "\n",
      "MULTIPLICATION TABLE FOR 1\n",
      "\n",
      "1     X     1 =     1\n",
      "1     X     2 =     2\n",
      "1     X     3 =     3\n",
      "1     X     4 =     4\n",
      "1     X     5 =     5\n",
      "1     X     6 =     6\n",
      "1     X     7 =     7\n",
      "1     X     8 =     8\n",
      "1     X     9 =     9\n",
      "1     X    10 =    10\n",
      "\n",
      "\n",
      "MULTIPLICATION TABLE FOR 2\n",
      "\n",
      "2     X     1 =     2\n",
      "2     X     2 =     4\n",
      "2     X     3 =     6\n",
      "2     X     4 =     8\n",
      "2     X     5 =    10\n",
      "2     X     6 =    12\n",
      "2     X     7 =    14\n",
      "2     X     8 =    16\n",
      "2     X     9 =    18\n",
      "2     X    10 =    20\n",
      "\n",
      "\n",
      "MULTIPLICATION TABLE FOR 3\n",
      "\n",
      "3     X     1 =     3\n",
      "3     X     2 =     6\n",
      "3     X     3 =     9\n",
      "3     X     4 =    12\n",
      "3     X     5 =    15\n",
      "3     X     6 =    18\n",
      "3     X     7 =    21\n",
      "3     X     8 =    24\n",
      "3     X     9 =    27\n",
      "3     X    10 =    30\n",
      "\n",
      "\n",
      "MULTIPLICATION TABLE FOR 4\n",
      "\n",
      "4     X     1 =     4\n",
      "4     X     2 =     8\n",
      "4     X     3 =    12\n",
      "4     X     4 =    16\n",
      "4     X     5 =    20\n",
      "4     X     6 =    24\n",
      "4     X     7 =    28\n",
      "4     X     8 =    32\n",
      "4     X     9 =    36\n",
      "4     X    10 =    40\n",
      "\n",
      "\n",
      "MULTIPLICATION TABLE FOR 5\n",
      "\n",
      "5     X     1 =     5\n",
      "5     X     2 =    10\n",
      "5     X     3 =    15\n",
      "5     X     4 =    20\n",
      "5     X     5 =    25\n",
      "5     X     6 =    30\n",
      "5     X     7 =    35\n",
      "5     X     8 =    40\n",
      "5     X     9 =    45\n",
      "5     X    10 =    50\n",
      "\n",
      "\n",
      "MULTIPLICATION TABLE FOR 6\n",
      "\n",
      "6     X     1 =     6\n",
      "6     X     2 =    12\n",
      "6     X     3 =    18\n",
      "6     X     4 =    24\n",
      "6     X     5 =    30\n",
      "6     X     6 =    36\n",
      "6     X     7 =    42\n",
      "6     X     8 =    48\n",
      "6     X     9 =    54\n",
      "6     X    10 =    60\n",
      "\n",
      "\n",
      "MULTIPLICATION TABLE FOR 7\n",
      "\n",
      "7     X     1 =     7\n",
      "7     X     2 =    14\n",
      "7     X     3 =    21\n",
      "7     X     4 =    28\n",
      "7     X     5 =    35\n",
      "7     X     6 =    42\n",
      "7     X     7 =    49\n",
      "7     X     8 =    56\n",
      "7     X     9 =    63\n",
      "7     X    10 =    70\n",
      "\n",
      "\n",
      "MULTIPLICATION TABLE FOR 8\n",
      "\n",
      "8     X     1 =     8\n",
      "8     X     2 =    16\n",
      "8     X     3 =    24\n",
      "8     X     4 =    32\n",
      "8     X     5 =    40\n",
      "8     X     6 =    48\n",
      "8     X     7 =    56\n",
      "8     X     8 =    64\n",
      "8     X     9 =    72\n",
      "8     X    10 =    80\n",
      "\n",
      "\n",
      "MULTIPLICATION TABLE FOR 9\n",
      "\n",
      "9     X     1 =     9\n",
      "9     X     2 =    18\n",
      "9     X     3 =    27\n",
      "9     X     4 =    36\n",
      "9     X     5 =    45\n",
      "9     X     6 =    54\n",
      "9     X     7 =    63\n",
      "9     X     8 =    72\n",
      "9     X     9 =    81\n",
      "9     X    10 =    90\n",
      "\n",
      "\n",
      "MULTIPLICATION TABLE FOR 10\n",
      "\n",
      "10    X     1 =    10\n",
      "10    X     2 =    20\n",
      "10    X     3 =    30\n",
      "10    X     4 =    40\n",
      "10    X     5 =    50\n",
      "10    X     6 =    60\n",
      "10    X     7 =    70\n",
      "10    X     8 =    80\n",
      "10    X     9 =    90\n",
      "10    X    10 =   100\n"
     ]
    }
   ],
   "source": [
    "for i in range(1,11):\n",
    "    print(\"\\n\\nMULTIPLICATION TABLE FOR %d\\n\" %(i))\n",
    "    for j in range(1,11):\n",
    "        print(\"%-5d X %5d = %5d\" % (i, j, i*j))"
   ]
  },
  {
   "cell_type": "markdown",
   "metadata": {},
   "source": [
    "# QUESTION 4"
   ]
  },
  {
   "cell_type": "markdown",
   "metadata": {},
   "source": [
    "4. Write a program to Print X Prime Numbers using While Loop starting from 0, and take the INput of X from the user"
   ]
  },
  {
   "cell_type": "code",
   "execution_count": 9,
   "metadata": {},
   "outputs": [
    {
     "name": "stdout",
     "output_type": "stream",
     "text": [
      "Enter the Second Number:100\n",
      "Prime Number 1\n",
      "Prime Number 2\n",
      "Prime Number 3\n",
      "Prime Number 4\n",
      "Prime Number 5\n",
      "Prime Number 7\n",
      "Prime Number 11\n",
      "Prime Number 13\n",
      "Prime Number 17\n",
      "Prime Number 19\n",
      "Prime Number 23\n",
      "Prime Number 29\n",
      "Prime Number 31\n",
      "Prime Number 37\n",
      "Prime Number 41\n",
      "Prime Number 43\n",
      "Prime Number 47\n",
      "Prime Number 53\n",
      "Prime Number 59\n",
      "Prime Number 61\n",
      "Prime Number 67\n",
      "Prime Number 71\n",
      "Prime Number 73\n",
      "Prime Number 79\n",
      "Prime Number 83\n",
      "Prime Number 89\n",
      "Prime Number 97\n"
     ]
    }
   ],
   "source": [
    "second = int(input(\"Enter the Second Number:\"))\n",
    "for i in range(1, second):\n",
    "    for j in range(2, i//2):\n",
    "        if i % j == 0:\n",
    "            break\n",
    "    else:\n",
    "        print(\"Prime Number\", i)"
   ]
  },
  {
   "cell_type": "code",
   "execution_count": null,
   "metadata": {},
   "outputs": [],
   "source": []
  }
 ],
 "metadata": {
  "kernelspec": {
   "display_name": "Python 3",
   "language": "python",
   "name": "python3"
  },
  "language_info": {
   "codemirror_mode": {
    "name": "ipython",
    "version": 3
   },
   "file_extension": ".py",
   "mimetype": "text/x-python",
   "name": "python",
   "nbconvert_exporter": "python",
   "pygments_lexer": "ipython3",
   "version": "3.7.0"
  }
 },
 "nbformat": 4,
 "nbformat_minor": 2
}
